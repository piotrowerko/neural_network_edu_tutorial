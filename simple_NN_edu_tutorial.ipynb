{
 "cells": [
  {
   "source": [
    "<h3>Simple, educational exemple\n",
    "of forward feed and backpropagation.</h3>\n",
    "\n",
    "Draft version (e.g. typos may appear)\n",
    "\n",
    "Author: Piotr Owerko (PhD, Eng.)"
   ],
   "cell_type": "markdown",
   "metadata": {}
  },
  {
   "source": [
    "<p>The sole purpose of this script is to show how a simple neural network works, not to train it.<br>\n",
    "Therefore, it is limited to the strategy analogous to the stochastic gradient descent (one training example ends one epoch).<br>\n",
    "The example shows the update of only 3 selected connections.<br>\n",
    "The operation of training based on other strategies<br>\n",
    "(e.g. weight averaging based on sending mini-batches with randomization) will be covered by other modules.<p>\n",
    "\n",
    "\n"
   ],
   "cell_type": "markdown",
   "metadata": {}
  },
  {
   "cell_type": "code",
   "execution_count": 2,
   "metadata": {
    "collapsed": false
   },
   "outputs": [],
   "source": [
    "import math\n",
    "\n",
    "# only first training example is used for tutorial to simplify it:\n",
    "data = [[2.5, 1.2, 1], [1.2, 0.8, 0], [2.8, 1.35, 1], [1.7, 0.65, 0], \n",
    "        [1.95, 1.0, 0], [2.1, 0.95, 1], [3.0, 1.15, 1], [1.12, 0.90, 0]]\n",
    "initial_w = [[0.8, 0.4, 0.6, 0.3, 0.7, 0.1], [0.5, 0.2, 1.1]] \n",
    "\n",
    "def sigmoid(z):\n",
    "    return 1/(1 + math.exp(-z))"
   ]
  },
  {
   "source": [
    "<img src=\"simple_NN_pio++.png\">"
   ],
   "cell_type": "markdown",
   "metadata": {}
  },
  {
   "source": [
    "<h4>1. Forward feed of the network</h4>"
   ],
   "cell_type": "markdown",
   "metadata": {}
  },
  {
   "cell_type": "code",
   "execution_count": 3,
   "metadata": {},
   "outputs": [
    {
     "output_type": "stream",
     "name": "stdout",
     "text": [
      "value of z1_1 = 3.1399999999999997\nvalue of sigma01_1 = 0.9585128806983042\n"
     ]
    }
   ],
   "source": [
    "z1_1 = 1 * initial_w[0][0] + data[0][0] * initial_w[0][2] + data[0][1] * initial_w[0][4]  \n",
    "# _0 denotes the number of learning epoch \n",
    "# - in this educational example only one epoch will be considered\n",
    "print(f'value of z1_1 = {z1_1}')\n",
    "sigma01_1 = sigmoid(z1_1)\n",
    "print(f'value of sigma01_1 = {sigma01_1}')"
   ]
  },
  {
   "cell_type": "code",
   "execution_count": 4,
   "metadata": {},
   "outputs": [
    {
     "output_type": "stream",
     "name": "stdout",
     "text": [
      "value of z2_1 = 1.27\nvalue of sigma02_1 = 0.7807427479121283\n\n"
     ]
    }
   ],
   "source": [
    "z2_1 = 1 * initial_w[0][1] + data[0][0] * initial_w[0][3] + data[0][1] * initial_w[0][5]\n",
    "print(f'value of z2_1 = {z2_1}')\n",
    "sigma02_1 = sigmoid(z2_1)\n",
    "print(f'value of sigma02_1 = {sigma02_1}\\n')"
   ]
  },
  {
   "cell_type": "code",
   "execution_count": 5,
   "metadata": {},
   "outputs": [
    {
     "output_type": "stream",
     "name": "stdout",
     "text": [
      "value of z0_2 = 1.550519598843002\nvalue of sigma0_2 = 0.8249887653819851\n"
     ]
    }
   ],
   "source": [
    "z0_2 = 1 * initial_w[1][0] + sigma01_1 * initial_w[1][1] + sigma02_1 * initial_w[1][2]\n",
    "print(f'value of z0_2 = {z0_2}')\n",
    "sigma0_2 = sigmoid(z0_2)\n",
    "print(f'value of sigma0_2 = {sigma0_2}')"
   ]
  },
  {
   "source": [
    "<h4>2. Colculating cost function value form I</h4>\n"
   ],
   "cell_type": "markdown",
   "metadata": {}
  },
  {
   "cell_type": "code",
   "execution_count": 6,
   "metadata": {},
   "outputs": [
    {
     "output_type": "stream",
     "name": "stdout",
     "text": [
      "value of cost function: 0.015314466121260934\n"
     ]
    }
   ],
   "source": [
    "cost = (1 / (2 * 1)) * ((sigma0_2 - 1) ** 2)  # becouse m = 1\n",
    "print(f'value of cost function: {cost}')"
   ]
  },
  {
   "source": [
    "<h4>3. Updating wieght w00_2_old</h4>\n",
    "<p>w00_2_new = w_00_2_old - learning_rate * d_cost_dw_00_2<br>\n",
    "d_cost_dw = d_cost_d_sigma * d_sigma_dz * dz_dw<br>\n",
    "d_cost_d_sigma = (1 / 2 * 1) * 2 * [(sigma0_2 - y0) * 1]<p>"
   ],
   "cell_type": "markdown",
   "metadata": {}
  },
  {
   "cell_type": "code",
   "execution_count": 7,
   "metadata": {},
   "outputs": [
    {
     "output_type": "stream",
     "name": "stdout",
     "text": [
      "d_cost_d_sigma0_2 = -0.17501123461801493\n"
     ]
    }
   ],
   "source": [
    "d_cost_d_sigma0_2 = (1 / (2 * 1)) * 2 * ((sigma0_2 - 1) * 1)\n",
    "print(f'd_cost_d_sigma0_2 = {d_cost_d_sigma0_2}')"
   ]
  },
  {
   "cell_type": "code",
   "execution_count": 8,
   "metadata": {},
   "outputs": [
    {
     "output_type": "stream",
     "name": "stdout",
     "text": [
      "d_sigmoid(z)_d_z = sigmoid(z) * (1-sigmoid(z))\nd_sigma_dz0_2 = 0.14438230237549307\n"
     ]
    }
   ],
   "source": [
    "print('d_sigmoid(z)_d_z = sigmoid(z) * (1-sigmoid(z))')\n",
    "d_sigma_dz0_2 = sigma0_2 * (1-sigma0_2)\n",
    "print(f'd_sigma_dz0_2 = {d_sigma_dz0_2}')"
   ]
  },
  {
   "cell_type": "code",
   "execution_count": 9,
   "metadata": {},
   "outputs": [
    {
     "output_type": "stream",
     "name": "stdout",
     "text": [
      "d_z0_2_0_d_w00_2 = 1\n\n"
     ]
    }
   ],
   "source": [
    "d_z0_2_d_w00_2 = 1  # regardless of the current value w00_2_old\n",
    "print(f'd_z0_2_0_d_w00_2 = {d_z0_2_d_w00_2}\\n')"
   ]
  },
  {
   "cell_type": "code",
   "execution_count": 10,
   "metadata": {},
   "outputs": [
    {
     "output_type": "stream",
     "name": "stdout",
     "text": [
      "d_cost_dw00_2 = -0.025268524995726592\n\nl_rate = 0.1\n\nw00_2_new = 0.5025268524995726\n\n"
     ]
    }
   ],
   "source": [
    "w00_2_old = initial_w[1][0]\n",
    "d_cost_dw00_2 = d_z0_2_d_w00_2 * d_sigma_dz0_2 * d_cost_d_sigma0_2\n",
    "print(f'd_cost_dw00_2 = {d_cost_dw00_2}\\n') # local gradient of cost function\n",
    "l_rate = 0.1\n",
    "print(f'l_rate = {l_rate}\\n')\n",
    "w00_2_new = w00_2_old - l_rate * d_cost_dw00_2\n",
    "print(f'w00_2_new = {w00_2_new}\\n')"
   ]
  },
  {
   "source": [
    "<h4>4. Updating wieght w_012_old</h4>\n",
    "<p>w01_2_new = w01_2_old - learning_rate * d_cost_dw01_2<br>\n",
    "d_cost_dw = d_cost_d_sigma * d_sigma_dz * dz_dw<br>\n",
    "d_cost_d_sigma = (1 / 2 * 1) * 2 * [(sigma0_2 - y0) * 1]<p>"
   ],
   "cell_type": "markdown",
   "metadata": {}
  },
  {
   "cell_type": "code",
   "execution_count": 11,
   "metadata": {},
   "outputs": [
    {
     "output_type": "stream",
     "name": "stdout",
     "text": [
      "d_cost_d_sigma0_2 = -0.17501123461801493\n\nd_sigmoid(z)_d_z = sigmoid(z) * (1-sigmoid(z))\nd_sigma_dz0_2 = 0.14438230237549307\n\n"
     ]
    }
   ],
   "source": [
    "print(f'd_cost_d_sigma0_2 = {d_cost_d_sigma0_2}\\n')\n",
    "print('d_sigmoid(z)_d_z = sigmoid(z) * (1-sigmoid(z))')  # We Already have it\n",
    "print(f'd_sigma_dz0_2 = {d_sigma_dz0_2}\\n')"
   ]
  },
  {
   "cell_type": "code",
   "execution_count": 12,
   "metadata": {},
   "outputs": [
    {
     "output_type": "stream",
     "name": "stdout",
     "text": [
      "d_z0_2_d_w01_2 = 0.9585128806983042\n\n"
     ]
    }
   ],
   "source": [
    "d_z0_2_d_w01_2 = sigma01_1  # regardless of the current value w01_2_old\n",
    "print(f'd_z0_2_d_w01_2 = {d_z0_2_d_w01_2}\\n')"
   ]
  },
  {
   "cell_type": "code",
   "execution_count": 13,
   "metadata": {},
   "outputs": [
    {
     "output_type": "stream",
     "name": "stdout",
     "text": [
      "d_cost_dw_012 = -0.024220206684651\n\n"
     ]
    }
   ],
   "source": [
    "w01_2_old = initial_w[1][1]\n",
    "d_cost_d_w01_2 = d_z0_2_d_w01_2 * d_sigma_dz0_2 * d_cost_d_sigma0_2\n",
    "print(f'd_cost_dw_012 = {d_cost_d_w01_2}\\n') # local gradient of cost function"
   ]
  },
  {
   "cell_type": "code",
   "execution_count": 14,
   "metadata": {},
   "outputs": [
    {
     "output_type": "stream",
     "name": "stdout",
     "text": [
      "l_rate = 0.1\nw01_2_new = 0.20242202066846512\n\n"
     ]
    }
   ],
   "source": [
    "l_rate = 0.1\n",
    "print(f'l_rate = {l_rate}')\n",
    "w01_2_new = w01_2_old - l_rate * d_cost_d_w01_2\n",
    "print(f'w01_2_new = {w01_2_new}\\n')"
   ]
  },
  {
   "source": [
    "<h4>5. Updating wieght w11_1_old</h4>\n",
    "<p>w11_1_new = w11_1_old - learning_rate * d_cost_d_w11_1<br>\n",
    "d_cost_dw = d_cost_d_sigma * d_sigma_dz * dz_dw<br>\n",
    "important: sigma(z) and z(w) are from adjacent neuron; not from last one;<br>\n",
    "important: we do not have the d_cost_d_sigma01_1, d_sigma01_1_dz1_1 and _z1_1_d_w11_1;<br>\n",
    "important: in order to find w11_1_new we need to find d_cost_d_sigma01_1 <p>"
   ],
   "cell_type": "markdown",
   "metadata": {}
  },
  {
   "source": [
    "<h4>5a. Finding value of d_cost_d_sigma_11_0</h4>\n",
    "<p>d_cost_d_sigma01_1 = d_cost_d_sigma0_2 * d_sigma_dz0_2 * dz_sigma01_1<br>\n",
    "dz_sigma01_1 = w01_2_old<p>"
   ],
   "cell_type": "markdown",
   "metadata": {}
  },
  {
   "cell_type": "code",
   "execution_count": 15,
   "metadata": {},
   "outputs": [
    {
     "output_type": "stream",
     "name": "stdout",
     "text": [
      "dz_sigma01_1 = 0.2\nd_cost_d_sigma01_1 = -0.005053704999145319\n"
     ]
    }
   ],
   "source": [
    "dz_sigma01_1 = w01_2_old\n",
    "print(f'dz_sigma01_1 = {dz_sigma01_1}')\n",
    "d_cost_d_sigma01_1 = d_cost_d_sigma0_2 * d_sigma_dz0_2 * dz_sigma01_1\n",
    "print(f'd_cost_d_sigma01_1 = {d_cost_d_sigma01_1}')"
   ]
  },
  {
   "source": [
    "<h4>5b. Finding value of d_sigma01_1_d_z1_1</h4>\n",
    "<p>d_sigma01_1_d_z1_1 = sigma01_1 * (1 - sigma01_1)<br></p>"
   ],
   "cell_type": "markdown",
   "metadata": {}
  },
  {
   "cell_type": "code",
   "execution_count": 16,
   "metadata": {},
   "outputs": [
    {
     "output_type": "stream",
     "name": "stdout",
     "text": [
      "d_sigma01_1_d_z1_1 = 0.03976593823374266\n"
     ]
    }
   ],
   "source": [
    "d_sigma01_1_d_z1_1 = sigma01_1 * (1 - sigma01_1)\n",
    "print(f'd_sigma01_1_d_z1_1 = {d_sigma01_1_d_z1_1}')"
   ]
  },
  {
   "source": [
    "<h4>5c.Finding value of d_z1_1_d_w11_1</h4>"
   ],
   "cell_type": "markdown",
   "metadata": {}
  },
  {
   "cell_type": "code",
   "execution_count": 17,
   "metadata": {},
   "outputs": [
    {
     "output_type": "stream",
     "name": "stdout",
     "text": [
      "d_z1_1_d_w11_1 = data[0][0] = 2.500\nd_z1_1_d_w11_1 = 2.5\n"
     ]
    }
   ],
   "source": [
    "print('d_z1_1_d_w11_1 = data[0][0] = 2.500')\n",
    "d_z1_1_d_w_11_1 = data[0][0]\n",
    "print(f'd_z1_1_d_w11_1 = {d_z1_1_d_w_11_1}')"
   ]
  },
  {
   "source": [
    "<h4>Back to 5. Updating wieght w11_1_old</h4>\n"
   ],
   "cell_type": "markdown",
   "metadata": {}
  },
  {
   "cell_type": "code",
   "execution_count": 18,
   "metadata": {},
   "outputs": [
    {
     "output_type": "stream",
     "name": "stdout",
     "text": [
      "d_cost_dw11_1 = d_z1_1_d_w11_1 * d_sigma1_1_dz1_1 * d_cost_d_sigma1_1\nd_cost_d_w11_1 = -0.0005024133021189231\n\nl_rate = 0.1\n\nw11_1_new = 0.6000502413302119\n"
     ]
    }
   ],
   "source": [
    "w11_1_old = initial_w[0][2]\n",
    "print('d_cost_dw11_1 = d_z1_1_d_w11_1 * d_sigma1_1_dz1_1 * d_cost_d_sigma1_1')\n",
    "d_cost_d_w11_1 = d_z1_1_d_w_11_1 * d_sigma01_1_d_z1_1 * d_cost_d_sigma01_1\n",
    "print(f'd_cost_d_w11_1 = {d_cost_d_w11_1}\\n') # local gradient of cost function\n",
    "l_rate = 0.1\n",
    "print(f'l_rate = {l_rate}\\n')\n",
    "w11_1_new = w11_1_old - l_rate * d_cost_d_w11_1\n",
    "print(f'w11_1_new = {w11_1_new}')"
   ]
  },
  {
   "source": [
    "<img src=\"simple_NN_pio++post.png\">"
   ],
   "cell_type": "markdown",
   "metadata": {}
  },
  {
   "cell_type": "code",
   "execution_count": null,
   "metadata": {},
   "outputs": [],
   "source": []
  }
 ],
 "metadata": {
  "kernelspec": {
   "name": "python3",
   "display_name": "Python 3.8.4 64-bit ('ML_pio_venv')",
   "metadata": {
    "interpreter": {
     "hash": "374f47375b8b335f5f807137264c96c525acbee6711e4a70d8e9815881cb22a6"
    }
   }
  },
  "language_info": {
   "codemirror_mode": {
    "name": "ipython",
    "version": 3
   },
   "file_extension": ".py",
   "mimetype": "text/x-python",
   "name": "python",
   "nbconvert_exporter": "python",
   "pygments_lexer": "ipython3",
   "version": "3.8.4-final"
  }
 },
 "nbformat": 4,
 "nbformat_minor": 0
}